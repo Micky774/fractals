{
 "cells": [
  {
   "cell_type": "code",
   "execution_count": 1,
   "metadata": {},
   "outputs": [
    {
     "data": {
      "text/plain": [
       "<matplotlib.pyplot._IoffContext at 0x24ac173a2e0>"
      ]
     },
     "execution_count": 1,
     "metadata": {},
     "output_type": "execute_result"
    }
   ],
   "source": [
    "import numpy as np\n",
    "import plotly.express as px\n",
    "from numba import njit, prange, cuda\n",
    "import math\n",
    "import cupy as cp\n",
    "import matplotlib.pyplot as plt\n",
    "from functools import partial\n",
    "import cv2\n",
    "\n",
    "# Turn interactive plotting off\n",
    "plt.ioff()"
   ]
  },
  {
   "cell_type": "code",
   "execution_count": 8,
   "metadata": {},
   "outputs": [],
   "source": [
    "HEIGHT = 1440*1\n",
    "WIDTH = 2560*1\n",
    "MAX_X = .65\n",
    "MIN_X = -2.35\n",
    "MAX_Y = 1.25\n",
    "MIN_Y = -1.25\n",
    "DPI = 500"
   ]
  },
  {
   "cell_type": "code",
   "execution_count": 9,
   "metadata": {},
   "outputs": [],
   "source": [
    "@njit\n",
    "def test_point_trap(a, b, max_iter, dist):\n",
    "    x = y = 0\n",
    "    d = 1e9\n",
    "    for _ in range(max_iter):\n",
    "        t_x = x*x - y*y + a\n",
    "        t_y = 2*x*y + b\n",
    "        x = t_x\n",
    "        y = t_y\n",
    "        d = min(d, dist(x, y))\n",
    "    return d"
   ]
  },
  {
   "cell_type": "code",
   "execution_count": 10,
   "metadata": {},
   "outputs": [],
   "source": [
    "@njit\n",
    "def test_point(a, b, max_iter, escaped):\n",
    "    x = y = 0\n",
    "    for i in range(max_iter):\n",
    "        t_x = x*x - y*y + a\n",
    "        t_y = 2*x*y + b\n",
    "        x = t_x\n",
    "        y = t_y\n",
    "        if escaped(x, y):\n",
    "            return i+1\n",
    "    return 0"
   ]
  },
  {
   "cell_type": "code",
   "execution_count": 11,
   "metadata": {},
   "outputs": [],
   "source": [
    "@njit\n",
    "def escaped(x, y):\n",
    "    return x*x + y*y > 4\n",
    "\n",
    "@njit\n",
    "def scale(x, min, max):\n",
    "    return (max-min)*x+min\n",
    "\n",
    "@njit(parallel=True)\n",
    "def generate_fractal(arr, escaped=None, max_iter=100, dist=None):\n",
    "    func = partial(test_point, escaped=escaped) if dist is None else partial(test_point_trap, dist=dist)\n",
    "    for i in prange(WIDTH):\n",
    "        for j in prange(HEIGHT):\n",
    "            u = scale(i/(WIDTH-1), MIN_X, MAX_X)\n",
    "            v = scale(j/(HEIGHT-1), MIN_Y, MAX_Y)\n",
    "            arr[j, i] = func(u, v, max_iter=max_iter)\n",
    "\n",
    "@cuda.jit\n",
    "def cuda_generate_fractal(arr, max_iter):\n",
    "    j, i = cuda.grid(2)\n",
    "    a = scale(i/(WIDTH-1), MIN_X, MAX_X)\n",
    "    b = scale(j/(HEIGHT-1), MIN_Y, MAX_Y)\n",
    "    x = y = 0\n",
    "    for iter in range(max_iter):\n",
    "        xx = x*x\n",
    "        yy = y*y\n",
    "        t_x = xx - yy + a\n",
    "        t_y = (x+x)*y + b\n",
    "        x = t_x\n",
    "        y = t_y\n",
    "        if xx+yy>4:\n",
    "            arr[j, i] = iter+1 -math.log(math.log(xx+yy)/math.log(2))\n",
    "            return\n",
    "    arr[j, i] = 0\n",
    "\n",
    "@cuda.jit\n",
    "def cuda_generate_orbit_trap_fractal(arr, max_iter, t):\n",
    "    j, i = cuda.grid(2)\n",
    "    a = scale(i/(WIDTH-1), MIN_X, MAX_X)\n",
    "    b = scale(j/(HEIGHT-1), MIN_Y, MAX_Y)\n",
    "    x = y = 0\n",
    "    d = 1e9\n",
    "    rot = 1/math.sqrt(2)\n",
    "    pi_const = math.sqrt(2)*math.pi\n",
    "    for _ in range(max_iter):\n",
    "        xx = x*x\n",
    "        yy = y*y\n",
    "        t_x = xx - yy + a\n",
    "        t_y = (x+x)*y + b\n",
    "        x = t_x\n",
    "        y = t_y\n",
    "        # p1_x = -0.75\n",
    "        # p1_y = 0.25\n",
    "        # p2_x = -0.75\n",
    "        # p2_y = -0.25\n",
    "        # p3_x = .25\n",
    "        # p3_y = 0\n",
    "        u_x = x + math.pi/2 + t\n",
    "        u = u_x*rot-y*rot\n",
    "        v = y*rot+u_x*rot\n",
    "        # d = min(d, abs((x-p1_x)**2 + (y-p1_y)**2))\n",
    "        # d = min(d, abs((x-p2_x)**2 + (y-p2_y)**2))\n",
    "        # d = min(d, abs((x-p3_x)**2 + (y-p3_y)**2))\n",
    "        # d = min(d, abs((u % pi_const)))\n",
    "        # d = min(d, abs((v % pi_const)))\n",
    "\n",
    "        d = min(d, abs((u % pi_const)-pi_const))\n",
    "        d = min(d, abs((v % pi_const)-pi_const))\n",
    "\n",
    "        # d = min(d, abs(math.sin(x-1.5) + math.cos(y)))\n",
    "        # d = min(d, abs(math.sqrt(abs(math.sin(x))) + math.cos(y)))\n",
    "    arr[j, i] = d"
   ]
  },
  {
   "cell_type": "code",
   "execution_count": 25,
   "metadata": {},
   "outputs": [],
   "source": [
    "def build_fractal(cuda_kernel, kernel_params, post_process, file_name, height=HEIGHT, width=WIDTH, dpi=DPI, imshow_params={\"cmap\":\"plasma_r\", \"aspect\":\"auto\"}):\n",
    "    canvas = cp.empty((height, width), dtype=np.float32)\n",
    "    threadsperblock = (16, 16)\n",
    "    blockspergrid_x = math.ceil(canvas.shape[0] / threadsperblock[0])\n",
    "    blockspergrid_y = math.ceil(canvas.shape[1] / threadsperblock[1])\n",
    "    blockspergrid = (blockspergrid_x, blockspergrid_y)\n",
    "\n",
    "\n",
    "    cuda_kernel[blockspergrid, threadsperblock](canvas, *kernel_params)\n",
    "\n",
    "    fig = plt.figure(frameon=False)\n",
    "    ax = plt.Axes(fig, [0., 0., 1., 1.])\n",
    "    ax.set_axis_off()\n",
    "    fig_size=(width/dpi, height/dpi)\n",
    "    fig.set_size_inches(fig_size)\n",
    "    fig.add_axes(ax)\n",
    "    \n",
    "    host_arr = cp.asnumpy(post_process(canvas))\n",
    "    ax.imshow(host_arr, **imshow_params)\n",
    "\n",
    "    plt.savefig(file_name, dpi=dpi)"
   ]
  },
  {
   "cell_type": "code",
   "execution_count": 27,
   "metadata": {},
   "outputs": [],
   "source": [
    "\"\"\"Render classic mandelbrot\"\"\"\n",
    "\n",
    "def post_process(arr):\n",
    "    glow = 1\n",
    "    arr = cp.log(arr+glow)\n",
    "    arr = (arr - arr.min()) /(arr.max()-arr.min())\n",
    "    return arr\n",
    "\n",
    "build_fractal(cuda_generate_fractal, (500,), post_process, \"local_artifacts/test_mandelbrot.png\")"
   ]
  },
  {
   "cell_type": "code",
   "execution_count": 29,
   "metadata": {},
   "outputs": [],
   "source": [
    "\"\"\"Render orbit trap\"\"\"\n",
    "\n",
    "def post_process(arr):\n",
    "    glow = 0.0025\n",
    "    arr = cp.log(arr+glow)\n",
    "    arr = (arr - arr.min()) /(arr.max()-arr.min())\n",
    "    return arr\n",
    "\n",
    "build_fractal(cuda_generate_orbit_trap_fractal, (3000,0), post_process, \"local_artifacts/_fractal.png\")"
   ]
  },
  {
   "cell_type": "code",
   "execution_count": null,
   "metadata": {},
   "outputs": [],
   "source": [
    "\"\"\"Render videos (WIP)\"\"\"\n",
    "canvas = cp.empty((HEIGHT, WIDTH), dtype=np.float32)\n",
    "threadsperblock = (16, 16)\n",
    "blockspergrid_x = math.ceil(canvas.shape[0] / threadsperblock[0])\n",
    "blockspergrid_y = math.ceil(canvas.shape[1] / threadsperblock[1])\n",
    "blockspergrid = (blockspergrid_x, blockspergrid_y)\n",
    "NUM_FRAMES=120\n",
    "DPI = 500\n",
    "\n",
    "for t in range(NUM_FRAMES):\n",
    "    cuda_generate_orbit_trap_fractal[blockspergrid, threadsperblock](canvas, 1000, t/(NUM_FRAMES-1))\n",
    "\n",
    "    fig = plt.figure(frameon=False)\n",
    "    ax = plt.Axes(fig, [0., 0., 1., 1.])\n",
    "    ax.set_axis_off()\n",
    "    FIG_SIZE=(WIDTH/DPI, HEIGHT/DPI)\n",
    "    fig.set_size_inches(FIG_SIZE)\n",
    "    fig.add_axes(ax)\n",
    "    glow = 0.0025\n",
    "    out = cp.log(canvas+glow)\n",
    "    out = (out - out.min()) /(out.max()-out.min())\n",
    "    host_arr = cp.asnumpy(out)\n",
    "    ax.imshow(host_arr, cmap='plasma_r', aspect='auto')\n",
    "\n",
    "#plt.show()\n",
    "plt.savefig(\"local_artifacts/_fractal.png\", dpi=DPI)\n",
    "print(\"Done!\")"
   ]
  },
  {
   "cell_type": "code",
   "execution_count": 6,
   "metadata": {},
   "outputs": [],
   "source": [
    "\"\"\"Trim existing images\"\"\"\n",
    "\n",
    "from PIL import Image\n",
    "\n",
    "# Kept large because renders tend to be huge\n",
    "Image.MAX_IMAGE_PIXELS = 933120000\n",
    "\n",
    "title = \"lattice_cursed\"\n",
    "im = Image.open(f\"local_artifacts/{title}.png\")\n",
    " \n",
    "TRIM_WIDTH, TRIM_HEIGHT = 2560, 1440\n",
    "\n",
    "im1 = im.resize((TRIM_WIDTH, TRIM_HEIGHT))\n",
    "im1.save(f\"local_artifacts/{title}_trim.png\")\n",
    "# Shows the image in image viewer\n",
    "# im1.show()"
   ]
  }
 ],
 "metadata": {
  "interpreter": {
   "hash": "53c73d0e2b03b0a390ce981a97490e0e731152a404899332b747e42e741209f8"
  },
  "kernelspec": {
   "display_name": "Python 3.9.12 ('fractal')",
   "language": "python",
   "name": "python3"
  },
  "language_info": {
   "codemirror_mode": {
    "name": "ipython",
    "version": 3
   },
   "file_extension": ".py",
   "mimetype": "text/x-python",
   "name": "python",
   "nbconvert_exporter": "python",
   "pygments_lexer": "ipython3",
   "version": "3.9.12"
  },
  "orig_nbformat": 4
 },
 "nbformat": 4,
 "nbformat_minor": 2
}
