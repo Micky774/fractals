{
 "cells": [
  {
   "cell_type": "code",
   "execution_count": null,
   "metadata": {},
   "outputs": [],
   "source": [
    "import numpy as np\n",
    "import plotly.express as px\n",
    "from numba import njit, prange, cuda\n",
    "import math\n",
    "import cupy as cp\n",
    "import matplotlib.pyplot as plt\n",
    "from functools import partial"
   ]
  },
  {
   "cell_type": "code",
   "execution_count": null,
   "metadata": {},
   "outputs": [],
   "source": [
    "HEIGHT = 1440*4\n",
    "WIDTH = 2560*4\n",
    "MAX_X = .65\n",
    "MIN_X = -2.35\n",
    "MAX_Y = 1.25\n",
    "MIN_Y = -1.25"
   ]
  },
  {
   "cell_type": "code",
   "execution_count": null,
   "metadata": {},
   "outputs": [],
   "source": [
    "@njit\n",
    "def test_point_trap(a, b, max_iter, dist):\n",
    "    x = y = 0\n",
    "    d = 1e9\n",
    "    for _ in range(max_iter):\n",
    "        t_x = x*x - y*y + a\n",
    "        t_y = 2*x*y + b\n",
    "        x = t_x\n",
    "        y = t_y\n",
    "        d = min(d, dist(x, y))\n",
    "    return d"
   ]
  },
  {
   "cell_type": "code",
   "execution_count": null,
   "metadata": {},
   "outputs": [],
   "source": [
    "@njit\n",
    "def test_point(a, b, max_iter, escaped):\n",
    "    x = y = 0\n",
    "    for i in range(max_iter):\n",
    "        t_x = x*x - y*y + a\n",
    "        t_y = 2*x*y + b\n",
    "        x = t_x\n",
    "        y = t_y\n",
    "        if escaped(x, y):\n",
    "            return i+1\n",
    "    return 0"
   ]
  },
  {
   "cell_type": "code",
   "execution_count": null,
   "metadata": {},
   "outputs": [],
   "source": [
    "@njit\n",
    "def escaped(x, y):\n",
    "    return x*x + y*y > 4\n",
    "\n",
    "@njit\n",
    "def scale(x, min, max):\n",
    "    return (max-min)*x+min\n",
    "\n",
    "@njit(parallel=True)\n",
    "def generate_fractal(arr, escaped=None, max_iter=100, dist=None):\n",
    "    func = partial(test_point, escaped=escaped) if dist is None else partial(test_point_trap, dist=dist)\n",
    "    for i in prange(WIDTH):\n",
    "        for j in prange(HEIGHT):\n",
    "            u = scale(i/(WIDTH-1), MIN_X, MAX_X)\n",
    "            v = scale(j/(HEIGHT-1), MIN_Y, MAX_Y)\n",
    "            arr[j, i] = func(u, v, max_iter=max_iter)\n",
    "\n",
    "@cuda.jit\n",
    "def cuda_generate_fractal(arr, max_iter):\n",
    "    j, i = cuda.grid(2)\n",
    "    a = scale(i/(WIDTH-1), MIN_X, MAX_X)\n",
    "    b = scale(j/(HEIGHT-1), MIN_Y, MAX_Y)\n",
    "    x = y = 0\n",
    "    for iter in range(max_iter):\n",
    "        xx = x*x\n",
    "        yy = y*y\n",
    "        t_x = xx - yy + a\n",
    "        t_y = (x+x)*y + b\n",
    "        x = t_x\n",
    "        y = t_y\n",
    "        if xx+yy>4:\n",
    "            arr[j, i] = iter+1 -math.log(math.log(xx+yy)/math.log(2))\n",
    "            return\n",
    "    arr[j, i] = 0\n",
    "\n",
    "@cuda.jit\n",
    "def cuda_generate_orbit_trap_fractal(arr, max_iter):\n",
    "    j, i = cuda.grid(2)\n",
    "    a = scale(i/(WIDTH-1), MIN_X, MAX_X)\n",
    "    b = scale(j/(HEIGHT-1), MIN_Y, MAX_Y)\n",
    "    x = y = 0\n",
    "    d = 1e9\n",
    "    for _ in range(max_iter):\n",
    "        xx = x*x\n",
    "        yy = y*y\n",
    "        t_x = xx - yy + a\n",
    "        t_y = (x+x)*y + b\n",
    "        x = t_x\n",
    "        y = t_y\n",
    "        # p1_x = 0.\n",
    "        # p1_y = 0.25\n",
    "        # p2_x = 0.\n",
    "        # p2_y = -0.25\n",
    "        # p3_x = .25\n",
    "        # p3_y = 0\n",
    "        # d = min(d, abs((x-p1_x)**2 + (y-p1_y)**2))\n",
    "        # d = min(d, abs((x-p2_x)**2 + (y-p2_y)**2))\n",
    "        # d = min(d, abs((x-p3_x)**2 + (y-p3_y)**2))\n",
    "        d = min(d, abs(x))\n",
    "    arr[j, i] = d"
   ]
  },
  {
   "cell_type": "code",
   "execution_count": null,
   "metadata": {},
   "outputs": [],
   "source": [
    "# canvas = np.empty((HEIGHT, WIDTH), dtype=np.double)\n",
    "# generate_fractal(canvas, escaped=escaped)\n",
    "# px.imshow(np.log(canvas+1))"
   ]
  },
  {
   "cell_type": "code",
   "execution_count": null,
   "metadata": {},
   "outputs": [],
   "source": [
    "canvas = cp.empty((HEIGHT, WIDTH), dtype=np.float32)\n",
    "threadsperblock = (16, 16)\n",
    "blockspergrid_x = math.ceil(canvas.shape[0] / threadsperblock[0])\n",
    "blockspergrid_y = math.ceil(canvas.shape[1] / threadsperblock[1])\n",
    "blockspergrid = (blockspergrid_x, blockspergrid_y)\n",
    "cuda_generate_fractal[blockspergrid, threadsperblock](canvas, 500)\n",
    "\n",
    "w = WIDTH/1000\n",
    "h = HEIGHT/1000\n",
    "fig = plt.figure(frameon=False)\n",
    "#fig.set_size_inches(w,h)\n",
    "ax = plt.Axes(fig, [0., 0., 1., 1.])\n",
    "ax.set_axis_off()\n",
    "fig.add_axes(ax)\n",
    "ax.imshow(np.log(cp.asnumpy(canvas+1)), cmap='inferno', aspect='auto')\n",
    "\n",
    "plt.savefig(\"fractal1.png\", dpi=1500)\n",
    "print(\"Done!\")"
   ]
  },
  {
   "cell_type": "code",
   "execution_count": null,
   "metadata": {},
   "outputs": [],
   "source": [
    "canvas = cp.empty((HEIGHT, WIDTH), dtype=np.float32)\n",
    "threadsperblock = (16, 16)\n",
    "blockspergrid_x = math.ceil(canvas.shape[0] / threadsperblock[0])\n",
    "blockspergrid_y = math.ceil(canvas.shape[1] / threadsperblock[1])\n",
    "blockspergrid = (blockspergrid_x, blockspergrid_y)\n",
    "cuda_generate_orbit_trap_fractal[blockspergrid, threadsperblock](canvas, 3000)\n",
    "\n",
    "fig = plt.figure(frameon=False)\n",
    "ax = plt.Axes(fig, [0., 0., 1., 1.])\n",
    "ax.set_axis_off()\n",
    "fig.add_axes(ax)\n",
    "glow = 0.0025\n",
    "C2 = 1\n",
    "out = cp.log(canvas+glow)\n",
    "out = (out - out.min()) /(out.max()-out.min())\n",
    "out = cp.log(out+1)\n",
    "host_arr = cp.asnumpy(out)\n",
    "ax.imshow(host_arr, cmap='plasma_r', aspect='auto')\n",
    "\n",
    "plt.savefig(\"local_artifacts/fractal.png\", dpi=5000)\n",
    "print(\"Done!\")"
   ]
  },
  {
   "cell_type": "code",
   "execution_count": 3,
   "metadata": {},
   "outputs": [],
   "source": [
    "from PIL import Image\n",
    "Image.MAX_IMAGE_PIXELS = 933120000"
   ]
  },
  {
   "cell_type": "code",
   "execution_count": 13,
   "metadata": {},
   "outputs": [],
   "source": [
    "# Opens a image in RGB mode\n",
    "im = Image.open(r\"R:\\other\\fractals\\local_artifacts\\warble.png\")\n",
    " \n",
    "# Size of the image in pixels (size of original image)\n",
    "# (This is not mandatory)\n",
    "width, height = im.size\n",
    "im1 = im.resize((2560, 1440))\n",
    "im1.save(\"local_artifacts/warble_trim.png\")\n",
    "# Shows the image in image viewer\n",
    "# im1.show()"
   ]
  }
 ],
 "metadata": {
  "interpreter": {
   "hash": "53c73d0e2b03b0a390ce981a97490e0e731152a404899332b747e42e741209f8"
  },
  "kernelspec": {
   "display_name": "Python 3.9.12 ('fractal')",
   "language": "python",
   "name": "python3"
  },
  "language_info": {
   "codemirror_mode": {
    "name": "ipython",
    "version": 3
   },
   "file_extension": ".py",
   "mimetype": "text/x-python",
   "name": "python",
   "nbconvert_exporter": "python",
   "pygments_lexer": "ipython3",
   "version": "3.9.12"
  },
  "orig_nbformat": 4
 },
 "nbformat": 4,
 "nbformat_minor": 2
}
